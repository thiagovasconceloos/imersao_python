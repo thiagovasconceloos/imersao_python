{
 "cells": [
  {
   "cell_type": "markdown",
   "metadata": {},
   "source": [
    "# Imersao Python\n",
    "\n",
    "## Uma breve introdução ao Python.\n",
    "\n",
    "Vamos conhecer todas as estruturas básicas da linguagem. Tudo o que é necessário para escrever programas minimamente úteis.\n",
    "\n",
    "## Tipos de dados\n",
    "\n",
    "Vamos dar \"olá\" para o mundo..."
   ]
  },
  {
   "cell_type": "code",
   "execution_count": null,
   "metadata": {},
   "outputs": [],
   "source": [
    "print(\"Olá mundo!!\")"
   ]
  },
  {
   "cell_type": "markdown",
   "metadata": {},
   "source": [
    "### Como pedir informação para o usuário??"
   ]
  },
  {
   "cell_type": "code",
   "execution_count": null,
   "metadata": {},
   "outputs": [],
   "source": [
    "nome = input(\"Qual o seu nome? \")\n",
    "idade = input(\"Qual sua idade?\")"
   ]
  },
  {
   "cell_type": "code",
   "execution_count": null,
   "metadata": {},
   "outputs": [],
   "source": [
    "type(idade)"
   ]
  },
  {
   "cell_type": "code",
   "execution_count": null,
   "metadata": {},
   "outputs": [],
   "source": [
    "# Primeira letra\n",
    "\n",
    "nome[0]"
   ]
  },
  {
   "cell_type": "code",
   "execution_count": null,
   "metadata": {},
   "outputs": [],
   "source": [
    "type(nome)"
   ]
  },
  {
   "cell_type": "markdown",
   "metadata": {},
   "source": [
    "### Toda informação que é requisitada pelo usuário é do tipo STRING\n",
    "\n",
    "Ou seja, mesmo que o usuário coloque um número, o mesmo é tratado como texto. Assim que desejemos obter a idade do indivíduo, precisamos converter para INTEIRO."
   ]
  },
  {
   "cell_type": "code",
   "execution_count": null,
   "metadata": {},
   "outputs": [],
   "source": [
    "idade = input(\"Qual sua idade? \")\n",
    "idade = int(idade)"
   ]
  },
  {
   "cell_type": "code",
   "execution_count": null,
   "metadata": {},
   "outputs": [],
   "source": [
    "type(idade)"
   ]
  },
  {
   "cell_type": "markdown",
   "metadata": {},
   "source": [
    "## Abrindo o capô das Strings\n",
    "\n",
    "Strings são um conjunto de caracteres, sendo possível navegar por elas, fatiar, remover caracteres, etc...\n",
    "\n",
    "Strings possuem métodos e atributos, mas o que e isso? Uma pessoa, possui características e ações possíveis de serem executadas.\n",
    "\n",
    "Exemplo de atributos (características):\n",
    "\n",
    "- cor do cabelo\n",
    "- cor dos olhos\n",
    "- idade\n",
    "- sexo\n",
    "\n",
    "Exemplo de métodos (ações):\n",
    "\n",
    "- Viajar\n",
    "- Estudar\n",
    "- Pintar o cabelo\n",
    "\n",
    "Vamos conferrir isso nas strings?"
   ]
  },
  {
   "cell_type": "code",
   "execution_count": null,
   "metadata": {},
   "outputs": [],
   "source": [
    "# Posições de caracteres\n",
    "\n",
    "# Fatiamento\n",
    "\n",
    "# Caixa alta\n",
    "\n",
    "# Caixa Baixa\n",
    "\n",
    "# Concatenação\n",
    "\n",
    "# Alteração\n",
    "\n",
    "# Começa com, termina com"
   ]
  },
  {
   "cell_type": "code",
   "execution_count": 96,
   "metadata": {},
   "outputs": [
    {
     "data": {
      "text/plain": [
       "'Tig'"
      ]
     },
     "execution_count": 96,
     "metadata": {},
     "output_type": "execute_result"
    }
   ],
   "source": [
    "# Sintese nome [ start:stop:step]\n",
    "nome[0::2]\n"
   ]
  },
  {
   "cell_type": "code",
   "execution_count": 107,
   "metadata": {},
   "outputs": [
    {
     "data": {
      "text/plain": [
       "6"
      ]
     },
     "execution_count": 107,
     "metadata": {},
     "output_type": "execute_result"
    }
   ],
   "source": [
    "#tamanho\n",
    "\n",
    "len(nome)"
   ]
  },
  {
   "cell_type": "code",
   "execution_count": 99,
   "metadata": {},
   "outputs": [
    {
     "name": "stdout",
     "output_type": "stream",
     "text": [
      "Os três primeiros caracteres\n"
     ]
    },
    {
     "data": {
      "text/plain": [
       "'Thi'"
      ]
     },
     "execution_count": 99,
     "metadata": {},
     "output_type": "execute_result"
    }
   ],
   "source": [
    "#Fatiando  o nome\n",
    "print(\"Os três primeiros caracteres\")\n",
    "nome[0:3] #Slice\n",
    "# fim inicio do range \n",
    "# 3  - 0  = 3 "
   ]
  },
  {
   "cell_type": "code",
   "execution_count": 100,
   "metadata": {},
   "outputs": [
    {
     "data": {
      "text/plain": [
       "'ogaihT'"
      ]
     },
     "execution_count": 100,
     "metadata": {},
     "output_type": "execute_result"
    }
   ],
   "source": [
    "#nome ao contrario\n",
    "\n",
    "nome[::-1]"
   ]
  },
  {
   "cell_type": "code",
   "execution_count": 103,
   "metadata": {},
   "outputs": [
    {
     "data": {
      "text/plain": [
       "'ago'"
      ]
     },
     "execution_count": 103,
     "metadata": {},
     "output_type": "execute_result"
    }
   ],
   "source": [
    "# Os três ultimos carecteres \n",
    "nome[-3:]"
   ]
  },
  {
   "cell_type": "code",
   "execution_count": 122,
   "metadata": {},
   "outputs": [
    {
     "data": {
      "text/plain": [
       "'oah'"
      ]
     },
     "execution_count": 122,
     "metadata": {},
     "output_type": "execute_result"
    }
   ],
   "source": [
    "nome[::-2]"
   ]
  },
  {
   "cell_type": "code",
   "execution_count": 108,
   "metadata": {},
   "outputs": [
    {
     "data": {
      "text/plain": [
       "'THIAGO'"
      ]
     },
     "execution_count": 108,
     "metadata": {},
     "output_type": "execute_result"
    }
   ],
   "source": [
    "#Caixa Alta\n",
    "nome.upper()"
   ]
  },
  {
   "cell_type": "code",
   "execution_count": 114,
   "metadata": {},
   "outputs": [
    {
     "data": {
      "text/plain": [
       "'thiago'"
      ]
     },
     "execution_count": 114,
     "metadata": {},
     "output_type": "execute_result"
    }
   ],
   "source": [
    "#Caixa Baixa\n",
    "nome.lower()"
   ]
  },
  {
   "cell_type": "code",
   "execution_count": 124,
   "metadata": {},
   "outputs": [
    {
     "data": {
      "text/plain": [
       "True"
      ]
     },
     "execution_count": 124,
     "metadata": {},
     "output_type": "execute_result"
    }
   ],
   "source": [
    "lara = \"Lara Calvo\"\n",
    "teo  = \"Teo Calvo\"\n",
    "\n",
    "teo.endswith(\"Calvo\")\n",
    "lara.endswith(\"Calvo\")"
   ]
  },
  {
   "cell_type": "markdown",
   "metadata": {},
   "source": [
    "## Vamos para os números?\n",
    "\n",
    "Python pode servir de calculadora, por exemplo somar, dividir, exponenciar, módulo, etc...\n",
    "\n",
    "Lembrando que temos dois tipos básicos de numéricos: int e float.\n",
    "\n",
    "Adicionando ainda, os booleanos: True e False"
   ]
  },
  {
   "cell_type": "code",
   "execution_count": null,
   "metadata": {},
   "outputs": [],
   "source": [
    "# 1 + 1\n",
    "\n",
    "# 1 - 1\n",
    "\n",
    "# 1 / 1\n",
    "\n",
    "# 1 * 1\n",
    "\n",
    "# 1 % 1\n",
    "\n",
    "# 1 ** 1\n",
    "\n",
    "# True + True"
   ]
  },
  {
   "cell_type": "markdown",
   "metadata": {},
   "source": [
    "## Tipos iteráveis\n",
    "\n",
    "Tipos iteráveis são tipos de dados que podemos de alguma forma iterar por eles. Mas o que diabos é iterar? Iterar é a possibilidade de criar iterações (loops) a partir de uma determinada condição lógica ou objeto a ser percorrido (iterado).\n",
    "\n",
    "Exemplo de iteráveis:\n",
    "\n",
    "- listas\n",
    "- tuplas\n",
    "- dicionários\n",
    "- range\n",
    "\n",
    "ps. Strings são iteráveis também.\n",
    "\n",
    "Vamos começar com listas...\n",
    "\n",
    "## Listas\n",
    "\n",
    "Listas são objetos que carregam (apontam) para um conjunto finito de quaiquer outros tipos de objetos. Pense me listas como vagões de trem que carregam uma determinada carga, onde cada um desses vagões pode conter tipos de carga totalmente diferentes. Ou seja, em um vagão pode haver minério, no outro madeira, e no outro conter pessoas."
   ]
  },
  {
   "cell_type": "code",
   "execution_count": null,
   "metadata": {},
   "outputs": [],
   "source": [
    "# Exemplo de listas\n",
    "\n",
    "# Posição de um elemento\n",
    "\n",
    "# Concatenação de listas\n",
    "\n",
    "# Métodos de listas\n",
    "\n",
    "# Fatiamento"
   ]
  },
  {
   "cell_type": "markdown",
   "metadata": {},
   "source": [
    "## Tuplas\n",
    "\n",
    "### Maneira feia de definir tuplas:\n",
    "\n",
    "Tuplas são listas imutáveis. Mas o que e isso?"
   ]
  },
  {
   "cell_type": "code",
   "execution_count": null,
   "metadata": {},
   "outputs": [],
   "source": [
    "# Exemplo de tuplas\n",
    "\n",
    "# Posição de um elemento\n",
    "\n",
    "# Concatenação de tuplas\n",
    "\n",
    "# Métodos de tuplas\n",
    "\n",
    "# Fatiamento"
   ]
  },
  {
   "cell_type": "markdown",
   "metadata": {},
   "source": [
    "## Dicionários\n",
    "\n",
    "Dicionários não estruturas de dados referentes à pares de chave/valor. Isso significa que vc atrela um valor a determinada chave, ao invés de uma posição, como no caso das listas e tuplas. Ressalto que o 'valor' pode ser qualquer tipo de objeto."
   ]
  },
  {
   "cell_type": "code",
   "execution_count": null,
   "metadata": {},
   "outputs": [],
   "source": [
    "# Exemplo de dicionário\n",
    "\n",
    "# Valor de uma chave\n",
    "\n",
    "# Mostrar todas as chaves\n",
    "\n",
    "# Mostrar todos os valores"
   ]
  },
  {
   "cell_type": "markdown",
   "metadata": {},
   "source": [
    "## Funções\n",
    "\n",
    "Funções são nossas amigas para reaproveitar código. Assim, caso tenha algum tipo de execução que seja parecido, não é necessário escrever o mesmo código toda vez."
   ]
  },
  {
   "cell_type": "code",
   "execution_count": null,
   "metadata": {},
   "outputs": [],
   "source": [
    "# f(x) = x**2 + 2 * x + 10"
   ]
  },
  {
   "cell_type": "markdown",
   "metadata": {},
   "source": [
    "## Controle de Fluxo\n",
    "\n",
    "No python é possível alterar a sequencia de leitura das linhas, fazendo uso de 'funções' especiais para tal. Exemplo de operadores que alteram o fluxo de um programa:\n",
    "\n",
    "- if\n",
    "\n",
    "- elif\n",
    "\n",
    "- else\n",
    "\n",
    "- for\n",
    "\n",
    "- while\n",
    "\n",
    "- try\n",
    "\n",
    "Lembre-se que é obrigatório o uso de identação, 4 espaços são o padrão.\n",
    "\n",
    "### if, elif e else\n",
    "\n",
    "Tabelinha verdade, vocês viram em algebra elementar, certo?\n",
    "\n",
    "Então, verdade verdade => verdade ?\n",
    "\n",
    "Mesma coisa por aqui:\n",
    "\n",
    "if verdade => verdade e executamos\n",
    "\n",
    "else => executamos aqui"
   ]
  },
  {
   "cell_type": "code",
   "execution_count": null,
   "metadata": {},
   "outputs": [],
   "source": [
    "# if\n",
    "\n",
    "# elif\n",
    "\n",
    "# else"
   ]
  },
  {
   "cell_type": "markdown",
   "metadata": {},
   "source": [
    "### Laços de repetição\n",
    "\n",
    "For percorre um iterável (iterador), ou seja, enquanto o iterador tiver valores para ser iterado, o laço for continua:"
   ]
  },
  {
   "cell_type": "code",
   "execution_count": null,
   "metadata": {},
   "outputs": [],
   "source": [
    "# for i in [1,2,3]"
   ]
  },
  {
   "cell_type": "markdown",
   "metadata": {},
   "source": [
    "## Importação de bibliotecas\n",
    "\n",
    "É comum fazer uso de código opensource que não vem \"empacotado\" junto com o python, assim, você pode querer usar pacotes de terceiros como também criar seus próprios módulos e bibliotecas. Para fazer reuso de códigos é necessário importa-los."
   ]
  },
  {
   "cell_type": "code",
   "execution_count": null,
   "metadata": {},
   "outputs": [],
   "source": [
    "# import time\n",
    "# import random"
   ]
  },
  {
   "cell_type": "markdown",
   "metadata": {},
   "source": [
    "# Exercicios "
   ]
  },
  {
   "cell_type": "code",
   "execution_count": null,
   "metadata": {},
   "outputs": [],
   "source": [
    "# Excercio 1.1\n",
    "def f(nome):\n",
    "        nome = input(\"Qual seu nome?\") \n",
    "        print(\"Olá \" + nome +\" Seja bem Vindo\")"
   ]
  },
  {
   "cell_type": "code",
   "execution_count": null,
   "metadata": {},
   "outputs": [],
   "source": [
    "f(nome)"
   ]
  },
  {
   "cell_type": "code",
   "execution_count": null,
   "metadata": {},
   "outputs": [],
   "source": [
    "# Excercio 1.2\n",
    "def f(nome,idade):\n",
    "        nome = input(\"Qual seu nome?\")\n",
    "        idade = input(\"Qual sua idade\")\n",
    "        print(\"Olá \" + nome + \", bom saber que você tem \"+idade+\" anos. Seja bem vindo!”\")"
   ]
  },
  {
   "cell_type": "code",
   "execution_count": 105,
   "metadata": {},
   "outputs": [],
   "source": [
    "# Exercio 1.3\n",
    "import math\n",
    "x = 0\n",
    "def f(x): \n",
    "     \n",
    "        x = int(input(\"Digite o raio\"))\n",
    "        \n",
    "     \n",
    "        area  = 3.14* (x*x)\n",
    "        perimetro = 2 * 3.14 * x;\n",
    "        print(\"Area : %.2f\"%area)\n",
    "        print(\"Perimetro: %.2f\"%perimetro)\n",
    "\n",
    "    \n",
    "  "
   ]
  },
  {
   "cell_type": "code",
   "execution_count": 106,
   "metadata": {},
   "outputs": [
    {
     "name": "stdin",
     "output_type": "stream",
     "text": [
      "Digite o raio 10\n"
     ]
    },
    {
     "name": "stdout",
     "output_type": "stream",
     "text": [
      "Area : 314.00\n",
      "Perimetro: 62.80\n"
     ]
    }
   ],
   "source": [
    "f(x)"
   ]
  },
  {
   "cell_type": "code",
   "execution_count": 135,
   "metadata": {},
   "outputs": [],
   "source": [
    "#Exercio 1.4\n",
    "a = 0\n",
    "b = 0\n",
    "def f(a,b):\n",
    "    a = int(input(\"Digite o valor A\"))\n",
    "    b = int(input(\"Digite o valor B\"))\n",
    "    soma = a*b\n",
    "    \n",
    "    return print(\"Soma: %.2f\"%soma)\n",
    "\n"
   ]
  },
  {
   "cell_type": "code",
   "execution_count": 134,
   "metadata": {},
   "outputs": [
    {
     "name": "stdin",
     "output_type": "stream",
     "text": [
      "Digite o valor A 10\n",
      "Digite o valor B 10\n"
     ]
    },
    {
     "name": "stdout",
     "output_type": "stream",
     "text": [
      "Soma: 100.00\n"
     ]
    }
   ],
   "source": [
    "f(a,b)"
   ]
  },
  {
   "cell_type": "code",
   "execution_count": 136,
   "metadata": {},
   "outputs": [],
   "source": [
    "#Exercio 1.5\n",
    "a = 0\n",
    "b = 0\n",
    "def potencia(a,b):\n",
    "    a = int(input(\"Digite o valor A\"))\n",
    "    b = int(input(\"Digite o valor B\"))\n",
    "    potencia = a**b\n",
    "    \n",
    "    return print(\"Soma: %.2f\"%potencia)"
   ]
  },
  {
   "cell_type": "code",
   "execution_count": 137,
   "metadata": {},
   "outputs": [
    {
     "name": "stdin",
     "output_type": "stream",
     "text": [
      "Digite o valor A 10\n",
      "Digite o valor B 2\n"
     ]
    },
    {
     "name": "stdout",
     "output_type": "stream",
     "text": [
      "Soma: 100.00\n"
     ]
    }
   ],
   "source": [
    "potencia(a,b)"
   ]
  },
  {
   "cell_type": "code",
   "execution_count": 200,
   "metadata": {},
   "outputs": [],
   "source": [
    "# Exercicio 1.6\n",
    "notas = [7,8, 9,10]\n",
    "def nota(notas):\n",
    "        print(\"Minimo: \"+ str(min(notas)))\n",
    "        print(\"Maximo: \"+str(max(notas)))\n",
    "        media = sum(notas)/len(notas)\n",
    "        print (\"Media:\"+ str(media))\n",
    "\n",
    "      \n",
    "    \n",
    "     "
   ]
  },
  {
   "cell_type": "code",
   "execution_count": 201,
   "metadata": {},
   "outputs": [
    {
     "name": "stdout",
     "output_type": "stream",
     "text": [
      "Minimo: 7\n",
      "Maximo: 10\n",
      "Media:8.5\n"
     ]
    }
   ],
   "source": [
    "nota(notas)"
   ]
  },
  {
   "cell_type": "code",
   "execution_count": 220,
   "metadata": {},
   "outputs": [],
   "source": [
    "# Exercicio 1.7\n",
    "\n",
    "listas= [120,\"Python\",120.01,\"ans\",False,[10,20]]\n",
    "def f(listas):\n",
    "     print(listas[-1])\n",
    "     print(listas[0])\n",
    "     print(listas[1][1:2])\n",
    "\n"
   ]
  },
  {
   "cell_type": "code",
   "execution_count": 221,
   "metadata": {},
   "outputs": [
    {
     "name": "stdout",
     "output_type": "stream",
     "text": [
      "[10, 20]\n",
      "120\n",
      "y\n"
     ]
    }
   ],
   "source": [
    "f(listas)"
   ]
  },
  {
   "cell_type": "code",
   "execution_count": null,
   "metadata": {},
   "outputs": [],
   "source": []
  }
 ],
 "metadata": {
  "file_extension": ".py",
  "kernelspec": {
   "display_name": "Python 3",
   "language": "python",
   "name": "python3"
  },
  "language_info": {
   "codemirror_mode": {
    "name": "ipython",
    "version": 3
   },
   "file_extension": ".py",
   "mimetype": "text/x-python",
   "name": "python",
   "nbconvert_exporter": "python",
   "pygments_lexer": "ipython3",
   "version": "3.8.5"
  },
  "mimetype": "text/x-python",
  "name": "python",
  "npconvert_exporter": "python",
  "pygments_lexer": "ipython3",
  "version": 3
 },
 "nbformat": 4,
 "nbformat_minor": 4
}
